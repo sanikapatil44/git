{
 "cells": [
  {
   "cell_type": "code",
   "execution_count": null,
   "metadata": {},
   "outputs": [],
   "source": [
    "# Import necessary libraries\n",
    "from sklearn.datasets import load_iris\n",
    "from sklearn.cluster import KMeans\n",
    "from sklearn.preprocessing import StandardScaler\n",
    "import matplotlib.pyplot as plt\n",
    "import seaborn as sns\n",
    "import pandas as pd\n",
    "\n",
    "# Load the Iris dataset\n",
    "iris = load_iris()\n",
    "X = iris.data\n",
    "\n",
    "# Optional: Scale the data (helps KMeans perform better)\n",
    "scaler = StandardScaler()\n",
    "X_scaled = scaler.fit_transform(X)\n",
    "\n",
    "# Initialize the KMeans model with the number of clusters (e.g., k=3)\n",
    "kmeans = KMeans(n_clusters=3, random_state=42)\n",
    "\n",
    "# Fit the model to the data\n",
    "kmeans.fit(X_scaled)\n",
    "\n",
    "# Get the predicted cluster labels\n",
    "labels = kmeans.labels_\n",
    "\n",
    "# Optional: Get the cluster centers\n",
    "centers = kmeans.cluster_centers_\n",
    "\n",
    "# Create a DataFrame for visualization\n",
    "df = pd.DataFrame(X_scaled, columns=iris.feature_names)\n",
    "df['cluster'] = labels\n",
    "\n",
    "# Plot the clusters\n",
    "plt.figure(figsize=(10, 6))\n",
    "sns.scatterplot(x=df[iris.feature_names[0]], y=df[iris.feature_names[2]], hue='cluster', data=df, palette='Set1', legend='full')\n",
    "plt.title(\"K-Means Clustering of Iris Dataset\")\n",
    "plt.xlabel(iris.feature_names[0])\n",
    "plt.ylabel(iris.feature_names[2])\n",
    "plt.show()\n",
    "\n",
    "# Print the cluster centers and labels\n",
    "print(\"Cluster centers:\\n\", centers)\n",
    "print(\"\\nCluster labels:\\n\", labels)\n"
   ]
  }
 ],
 "metadata": {
  "language_info": {
   "name": "python"
  }
 },
 "nbformat": 4,
 "nbformat_minor": 2
}
